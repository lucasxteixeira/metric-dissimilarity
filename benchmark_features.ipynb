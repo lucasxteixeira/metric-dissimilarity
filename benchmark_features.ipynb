{
 "cells": [
  {
   "cell_type": "code",
   "execution_count": null,
   "metadata": {},
   "outputs": [],
   "source": [
    "import os\n",
    "import numpy as np\n",
    "\n",
    "import skimage\n",
    "import sklearn\n",
    "\n",
    "import metric_dissimilarity"
   ]
  },
  {
   "cell_type": "code",
   "execution_count": null,
   "metadata": {},
   "outputs": [],
   "source": [
    "# Read the images\n",
    "X = []\n",
    "Y = []\n",
    "\n",
    "for cls in os.listdir(\"data/processed\"):\n",
    "  for img_filename in os.listdir(f\"data/processed/{cls}\"):\n",
    "    img = skimage.io.imread(f\"data/processed/{cls}/{img_filename}\")\n",
    "    X.append(img)\n",
    "    Y.append(cls)\n",
    "\n",
    "# Convert to numpy\n",
    "X = np.array(X, dtype = np.uint8)\n",
    "Y = sklearn.preprocessing.LabelEncoder().fit_transform(Y)\n",
    "\n",
    "# Subset the problem to only 10 classes\n",
    "X = X[Y < 10]\n",
    "Y = Y[Y < 10]\n",
    "\n",
    "# Transform X into LBP features\n",
    "X_lbp = []\n",
    "for i in range(len(X)):\n",
    "  # Convert to grayscale\n",
    "  img = skimage.color.rgb2gray(X[i])\n",
    "\n",
    "  # Convert to uint8\n",
    "  img = skimage.img_as_ubyte(img)\n",
    "\n",
    "  # Compute the LBP representation of the image\n",
    "  lbp = skimage.feature.local_binary_pattern(img, 3 * 8, 3, \"uniform\")\n",
    "\n",
    "  # Compute histogram of LBP\n",
    "  # Number of bins: for 'uniform', the number of patterns is n_points + 2\n",
    "  n_bins = int(lbp.max() + 1)\n",
    "  hist, _ = np.histogram(lbp, bins=n_bins, range=(0, n_bins), density=True)\n",
    "\n",
    "  X_lbp.append(hist)\n",
    "\n",
    "X_lbp = np.array(X_lbp)\n",
    "\n",
    "# Split the data\n",
    "X_train, X_test, Y_train, Y_test = sklearn.model_selection.train_test_split(X_lbp, Y, random_state = 42, stratify = Y)"
   ]
  },
  {
   "cell_type": "code",
   "execution_count": null,
   "metadata": {},
   "outputs": [],
   "source": [
    "# Display some summary statistics\n",
    "print(f\"Training set: {len(X_train)} samples\")\n",
    "print(f\"Test set: {len(X_test)} samples\")\n",
    "print(f\"Number of features: {X_train.shape}\")"
   ]
  },
  {
   "cell_type": "code",
   "execution_count": null,
   "metadata": {},
   "outputs": [],
   "source": [
    "model = metric_dissimilarity.train(X_train, Y_train, model_type=\"contrastive\", model_file=\"cache/model.pth\", backbone=None,\n",
    "                                   embeddingsize=None,\n",
    "                                   batch=32, iterations=10000, lr=0.001,\n",
    "                                   batch_warmup=64,\n",
    "                                   clf_warmup=False, clf_warmup_epochs=10, clf_epochs=50, clf_warmup_lr=0.01, clf_lr=0.001,\n",
    "                                   warmup_iterations=5000, lr_warmup=0.01,\n",
    "                                   temperature_warmup=0.5, temperature=0.5)"
   ]
  },
  {
   "cell_type": "code",
   "execution_count": null,
   "metadata": {},
   "outputs": [],
   "source": [
    "X_prot, Y_prot = metric_dissimilarity.compute_prototypes(X_train, Y_train, n_prototypes=5, method=\"kmeans++\", cache=\"cache_features/prototypes.pkl\")"
   ]
  },
  {
   "cell_type": "code",
   "execution_count": null,
   "metadata": {},
   "outputs": [],
   "source": [
    "contr_dissimilarity.umap_projection(X_prot, Y_prot)"
   ]
  },
  {
   "cell_type": "code",
   "execution_count": null,
   "metadata": {},
   "outputs": [],
   "source": [
    "contr_space_train = metric_dissimilarity.space_representation(model, X_train, X_prot, cache=\"cache_features/contr-space-train.pkl\")\n",
    "contr_space_test = metric_dissimilarity.space_representation(model, X_test, X_prot, cache=\"cache_features/contr-space-test.pkl\")"
   ]
  },
  {
   "cell_type": "code",
   "execution_count": null,
   "metadata": {},
   "outputs": [],
   "source": [
    "contr_vector_X_train, contr_vector_Y_train = metric_dissimilarity.vector_representation(model, \n",
    "                                                                                       X_train, Y_train, X_prot, Y_prot, variations=20,\n",
    "                                                                                       cache=\"cache/contr-vector-train.pkl\")\n",
    "\n",
    "contr_vector_X_test, _ = metric_dissimilarity.vector_representation(model, \n",
    "                                                                   X_test, Y_test, X_prot, Y_prot, variations=20,\n",
    "                                                                   cache=\"cache/contr-vector-test.pkl\")"
   ]
  },
  {
   "cell_type": "code",
   "execution_count": null,
   "metadata": {},
   "outputs": [],
   "source": [
    "# Original feature classification\n",
    "np.random.seed(1234)\n",
    "\n",
    "# Train a regular classifier\n",
    "clf = sklearn.linear_model.LogisticRegression()\n",
    "clf.fit(X_train, Y_train)\n",
    "\n",
    "# Evaluate the classifier\n",
    "Y_pred = clf.predict(X_test)\n",
    "acc = sklearn.metrics.accuracy_score(Y_test, Y_pred)\n",
    "\n",
    "print(f\"Accuracy: {acc * 100:.1f}%\")"
   ]
  },
  {
   "cell_type": "code",
   "execution_count": null,
   "metadata": {},
   "outputs": [],
   "source": [
    "# Contrastive dissimilarity space classification\n",
    "np.random.seed(1234)\n",
    "\n",
    "# Train a regular classifier\n",
    "clf = sklearn.linear_model.LogisticRegression()\n",
    "clf.fit(contr_space_train, Y_train)\n",
    "\n",
    "# Evaluate the classifier\n",
    "Y_pred = clf.predict(contr_space_test)\n",
    "acc = sklearn.metrics.accuracy_score(Y_test, Y_pred)\n",
    "\n",
    "print(f\"Accuracy: {acc * 100:.1f}%\")"
   ]
  },
  {
   "cell_type": "code",
   "execution_count": null,
   "metadata": {},
   "outputs": [],
   "source": [
    "# Contrastive dissimilarity vector classification\n",
    "np.random.seed(1234)\n",
    "\n",
    "# Train a regular classifier\n",
    "clf = sklearn.linear_model.LogisticRegression()\n",
    "clf.fit(contr_vector_X_train, contr_vector_Y_train)\n",
    "\n",
    "X_pred_proba = clf.predict_proba(contr_vector_X_test)\n",
    "\n",
    "# Transform the binary classification back into multiclass\n",
    "X_pred = contr_dissimilarity.vector_to_class(X_pred_proba, Y_test, Y_prot)\n",
    "\n",
    "# Evaluate the classifier\n",
    "acc = sklearn.metrics.accuracy_score(Y_test, Y_pred)\n",
    "\n",
    "print(f\"Accuracy: {acc * 100:.1f}%\")"
   ]
  }
 ],
 "metadata": {
  "kernelspec": {
   "display_name": "torch",
   "language": "python",
   "name": "python3"
  },
  "language_info": {
   "codemirror_mode": {
    "name": "ipython",
    "version": 3
   },
   "file_extension": ".py",
   "mimetype": "text/x-python",
   "name": "python",
   "nbconvert_exporter": "python",
   "pygments_lexer": "ipython3",
   "version": "3.12.8"
  }
 },
 "nbformat": 4,
 "nbformat_minor": 4
}
