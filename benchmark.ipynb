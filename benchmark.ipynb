{
 "cells": [
  {
   "cell_type": "code",
   "execution_count": null,
   "metadata": {},
   "outputs": [],
   "source": [
    "import os\n",
    "import numpy as np\n",
    "\n",
    "import skimage\n",
    "import sklearn\n",
    "\n",
    "from matplotlib import pyplot as plt\n",
    "\n",
    "import metric_dissimilarity"
   ]
  },
  {
   "cell_type": "code",
   "execution_count": null,
   "metadata": {},
   "outputs": [],
   "source": [
    "# Read the images\n",
    "X = []\n",
    "Y = []\n",
    "\n",
    "for cls in os.listdir(\"data/processed\"):\n",
    "  for img_filename in os.listdir(f\"data/processed/{cls}\"):\n",
    "    img = skimage.io.imread(f\"data/processed/{cls}/{img_filename}\")\n",
    "    X.append(img)\n",
    "    Y.append(cls)\n",
    "\n",
    "# Convert to numpy\n",
    "X = np.array(X, dtype = np.uint8)\n",
    "Y = sklearn.preprocessing.LabelEncoder().fit_transform(Y)\n",
    "\n",
    "# Subset the problem to only 10 classes\n",
    "X = X[Y < 10]\n",
    "Y = Y[Y < 10]\n",
    "\n",
    "# Split the data\n",
    "X_train, X_test, Y_train, Y_test = sklearn.model_selection.train_test_split(X, Y, random_state = 42, stratify = Y)"
   ]
  },
  {
   "cell_type": "code",
   "execution_count": null,
   "metadata": {},
   "outputs": [],
   "source": [
    "# Visualize some images and their corresponding labels.\n",
    "plt.figure(figsize = (15, 8))\n",
    "for i in range(30):\n",
    "  ax = plt.subplot(3, 10, i + 1)\n",
    "  plt.imshow(X_train[i] / 255.)\n",
    "  plt.title(Y_train[i])\n",
    "  plt.axis(\"off\")"
   ]
  },
  {
   "cell_type": "code",
   "execution_count": null,
   "metadata": {},
   "outputs": [],
   "source": [
    "model = metric_dissimilarity.train(X_train, Y_train, model_type=\"contrastive\", model_file=\"cache/model.pth\", backbone=\"efficientnet_v2_s\",\n",
    "                                   embeddingsize=128, patch_size=(200,200), pretrained=True,\n",
    "                                   batch=32, iterations=10000, lr=0.001,\n",
    "                                   batch_warmup=64,\n",
    "                                   clf_warmup=False, clf_warmup_epochs=10, clf_epochs=50, clf_warmup_lr=0.01, clf_lr=0.001,\n",
    "                                   warmup_iterations=5000, lr_warmup=0.01,\n",
    "                                   temperature_warmup=0.5, temperature=0.5)"
   ]
  },
  {
   "cell_type": "code",
   "execution_count": null,
   "metadata": {},
   "outputs": [],
   "source": [
    "train_embeddings = metric_dissimilarity.generate_embedding(model, X_train, patch_size=(200, 200), cache=\"cache/train_embedding.pkl\")\n",
    "test_embeddings = metric_dissimilarity.generate_embedding(model, X_test, patch_size=(200, 200), cache=\"cache/test_embedding.pkl\")"
   ]
  },
  {
   "cell_type": "code",
   "execution_count": null,
   "metadata": {},
   "outputs": [],
   "source": [
    "metric_dissimilarity.umap_projection(train_embeddings, Y_train)\n",
    "metric_dissimilarity.umap_projection(test_embeddings, Y_test)"
   ]
  },
  {
   "cell_type": "code",
   "execution_count": null,
   "metadata": {},
   "outputs": [],
   "source": [
    "X_prot, Y_prot = metric_dissimilarity.compute_prototypes(train_embeddings, Y_train, n_prototypes=5, method=\"kmeans++\", cache=\"cache/prototypes.pkl\")"
   ]
  },
  {
   "cell_type": "code",
   "execution_count": null,
   "metadata": {},
   "outputs": [],
   "source": [
    "metric_dissimilarity.umap_projection(X_prot, Y_prot)"
   ]
  },
  {
   "cell_type": "code",
   "execution_count": null,
   "metadata": {},
   "outputs": [],
   "source": [
    "contr_space_train = metric_dissimilarity.space_representation(model, train_embeddings, X_prot, cache=\"cache/contr-space-train.pkl\")\n",
    "contr_space_test = metric_dissimilarity.space_representation(model, test_embeddings, X_prot, cache=\"cache/contr-space-test.pkl\")"
   ]
  },
  {
   "cell_type": "code",
   "execution_count": null,
   "metadata": {},
   "outputs": [],
   "source": [
    "contr_vector_X_train, contr_vector_Y_train = metric_dissimilarity.vector_representation(model, \n",
    "                                                                                       X_train, Y_train, X_prot, Y_prot, patch_size=(200, 200), variations=20,\n",
    "                                                                                       cache=\"cache/contr-vector-train.pkl\")\n",
    "\n",
    "contr_vector_X_test, _ = metric_dissimilarity.vector_representation(model, \n",
    "                                                                   X_test, Y_test, X_prot, Y_prot, patch_size=(200, 200), variations=20,\n",
    "                                                                   cache=\"cache/contr-vector-test.pkl\")"
   ]
  },
  {
   "cell_type": "code",
   "execution_count": null,
   "metadata": {},
   "outputs": [],
   "source": [
    "# Embedding classification\n",
    "np.random.seed(1234)\n",
    "\n",
    "# Train a regular classifier\n",
    "clf = sklearn.linear_model.LogisticRegression()\n",
    "clf.fit(train_embeddings, Y_train)\n",
    "\n",
    "# Evaluate the classifier\n",
    "Y_pred = clf.predict(test_embeddings)\n",
    "acc = sklearn.metrics.accuracy_score(Y_test, Y_pred)\n",
    "\n",
    "print(f\"Accuracy: {acc * 100:.1f}%\")"
   ]
  },
  {
   "cell_type": "code",
   "execution_count": null,
   "metadata": {},
   "outputs": [],
   "source": [
    "# Contrastive dissimilarity space classification\n",
    "np.random.seed(1234)\n",
    "\n",
    "# Train a regular classifier\n",
    "clf = sklearn.linear_model.LogisticRegression()\n",
    "clf.fit(contr_space_train, Y_train)\n",
    "\n",
    "# Evaluate the classifier\n",
    "Y_pred = clf.predict(contr_space_test)\n",
    "acc = sklearn.metrics.accuracy_score(Y_test, Y_pred)\n",
    "\n",
    "print(f\"Accuracy: {acc * 100:.1f}%\")"
   ]
  },
  {
   "cell_type": "code",
   "execution_count": null,
   "metadata": {},
   "outputs": [],
   "source": [
    "# Contrastive dissimilarity vector classification\n",
    "np.random.seed(1234)\n",
    "\n",
    "# Train a regular classifier\n",
    "clf = sklearn.linear_model.LogisticRegression()\n",
    "clf.fit(contr_vector_X_train, contr_vector_Y_train)\n",
    "\n",
    "X_pred_proba = clf.predict_proba(contr_vector_X_test)\n",
    "\n",
    "# Transform the binary classification back into multiclass\n",
    "X_pred = metric_dissimilarity.vector_to_class(X_pred_proba, Y_test, Y_prot)\n",
    "\n",
    "# Evaluate the classifier\n",
    "acc = sklearn.metrics.accuracy_score(Y_test, Y_pred)\n",
    "\n",
    "print(f\"Accuracy: {acc * 100:.1f}%\")"
   ]
  }
 ],
 "metadata": {
  "kernelspec": {
   "display_name": "torch",
   "language": "python",
   "name": "python3"
  },
  "language_info": {
   "codemirror_mode": {
    "name": "ipython",
    "version": 3
   },
   "file_extension": ".py",
   "mimetype": "text/x-python",
   "name": "python",
   "nbconvert_exporter": "python",
   "pygments_lexer": "ipython3",
   "version": "3.12.8"
  }
 },
 "nbformat": 4,
 "nbformat_minor": 4
}
